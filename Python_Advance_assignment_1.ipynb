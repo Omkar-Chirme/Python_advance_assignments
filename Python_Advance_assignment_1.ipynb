{
 "cells": [
  {
   "cell_type": "markdown",
   "metadata": {},
   "source": [
    "# Python Advance Assignment 1\n",
    "\n",
    "**1. What makes NumPy.shape() different from NumPy.size()?**\n",
    "\n",
    "numpy.shape() relates to the size of the dimension of an N-dimenaional array, where as numpy.size() relates to the count of elements that are contained in array.\n"
   ]
  },
  {
   "cell_type": "markdown",
   "metadata": {},
   "source": [
    "**2. In NumPy, describe the idea of broadcasting.**\n",
    "\n",
    "broadcasting in numpy treats arrays with different shapes to make arithmetic operation work. So small array is broadcasted across the large array.\n",
    "\n",
    "Small array is stretched to have compatible shapes to perform operations."
   ]
  },
  {
   "cell_type": "markdown",
   "metadata": {},
   "source": [
    "**3. What makes Python better than other libraries for numerical computation?**\n",
    "\n",
    "Python is easy and readable, which makes programmer easy to express concepts in fewer lines. Although it is not good as numpy in case of large data multidimensional programms. But its technically possible to pperform scalar and matriz calculation using python lists, but it has poor performance.\n"
   ]
  },
  {
   "cell_type": "markdown",
   "metadata": {},
   "source": [
    "**4. How does NumPy deal with files?**\n",
    "\n",
    "Data can be load from text file into numpy by 2 methods. \n",
    "\n",
    "If data does not have missing values use numpy.loadtxt()\n",
    "\n",
    "If data has missing values use numpy.genfromtxt()\n",
    "\n",
    "We can aslo skip row from file using numpy functions."
   ]
  },
  {
   "cell_type": "markdown",
   "metadata": {},
   "source": [
    "**5. Mention the importance of NumPy.empty().**\n",
    "\n",
    "numpy.empty() is used to create an array without initializing the entries of given shape and type.\n",
    "\n",
    "The array doen't have its values initialized. which means values in empty array are totally random and unpredictable.\n"
   ]
  },
  {
   "cell_type": "markdown",
   "metadata": {},
   "source": []
  }
 ],
 "metadata": {
  "interpreter": {
   "hash": "55cdaa35f3bf328455cc90222d006bc0ecee02538e8f35de15acd39e8589c932"
  },
  "kernelspec": {
   "display_name": "Python 3.8.8 ('base')",
   "language": "python",
   "name": "python3"
  },
  "language_info": {
   "name": "python",
   "version": "3.8.8"
  },
  "orig_nbformat": 4
 },
 "nbformat": 4,
 "nbformat_minor": 2
}
